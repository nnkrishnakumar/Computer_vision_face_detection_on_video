{
 "cells": [
  {
   "cell_type": "code",
   "execution_count": null,
   "metadata": {},
   "outputs": [],
   "source": [
    "import cv2\n",
    "vdo=cv2.VideoCapture('C:/Study Material/Ducat stuff/Python with ML_2nd joining video and dataset/all class of DS_ML_ 2nd Joining Ducate/Machine learning/ML__20__13112021(Computer vision and NLP)/project/Lal_ghanghara.mp4')\n",
    "faceModel=cv2.CascadeClassifier(\"C:/Study Material/Ducat stuff/Python with ML_2nd joining video and dataset/dataset/haar/haarcascade_frontalface_default.xml\")\n",
    "while True:\n",
    "    flag,img=vdo.read()\n",
    "    if flag==False:\n",
    "        break\n",
    "    face_list=faceModel.detectMultiScale(img)\n",
    "    for x,y,w,h in face_list:\n",
    "        cv2.rectangle(img,(x,y),(x+w,y+h),(0,0,255),2)\n",
    "    cv2.imshow('title',img)\n",
    "    k=cv2.waitKey(20)\n",
    "    if k== ord('a'):\n",
    "        break\n",
    "cv2.destroyAllWindows()\n",
    "vdo.release()"
   ]
  }
 ],
 "metadata": {
  "kernelspec": {
   "display_name": "Python 3",
   "language": "python",
   "name": "python3"
  },
  "language_info": {
   "codemirror_mode": {
    "name": "ipython",
    "version": 3
   },
   "file_extension": ".py",
   "mimetype": "text/x-python",
   "name": "python",
   "nbconvert_exporter": "python",
   "pygments_lexer": "ipython3",
   "version": "3.8.5"
  }
 },
 "nbformat": 4,
 "nbformat_minor": 4
}
